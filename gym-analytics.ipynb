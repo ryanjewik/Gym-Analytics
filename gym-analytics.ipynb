{
 "cells": [
  {
   "cell_type": "code",
   "execution_count": 1,
   "id": "7ada45e6",
   "metadata": {},
   "outputs": [],
   "source": [
    "import pandas as pd\n",
    "import numpy as np\n",
    "df = pd.read_csv(\"gym.csv\")"
   ]
  },
  {
   "cell_type": "code",
   "execution_count": 2,
   "id": "f3dd9bc0",
   "metadata": {},
   "outputs": [
    {
     "data": {
      "text/html": [
       "<div>\n",
       "<style scoped>\n",
       "    .dataframe tbody tr th:only-of-type {\n",
       "        vertical-align: middle;\n",
       "    }\n",
       "\n",
       "    .dataframe tbody tr th {\n",
       "        vertical-align: top;\n",
       "    }\n",
       "\n",
       "    .dataframe thead th {\n",
       "        text-align: right;\n",
       "    }\n",
       "</style>\n",
       "<table border=\"1\" class=\"dataframe\">\n",
       "  <thead>\n",
       "    <tr style=\"text-align: right;\">\n",
       "      <th></th>\n",
       "      <th>Name</th>\n",
       "      <th>Date</th>\n",
       "      <th>Type</th>\n",
       "      <th>Primary Muscle</th>\n",
       "      <th>Sets</th>\n",
       "      <th>Reps</th>\n",
       "      <th>Weight (lbs)</th>\n",
       "      <th>Notes</th>\n",
       "    </tr>\n",
       "  </thead>\n",
       "  <tbody>\n",
       "    <tr>\n",
       "      <th>0</th>\n",
       "      <td>Dumbell Curls</td>\n",
       "      <td>3/20/2023</td>\n",
       "      <td>Pull</td>\n",
       "      <td>Biceps</td>\n",
       "      <td>3</td>\n",
       "      <td>10</td>\n",
       "      <td>20</td>\n",
       "      <td>NaN</td>\n",
       "    </tr>\n",
       "    <tr>\n",
       "      <th>1</th>\n",
       "      <td>Overhead Dumbell Raises</td>\n",
       "      <td>3/20/2023</td>\n",
       "      <td>Push</td>\n",
       "      <td>Triceps</td>\n",
       "      <td>3</td>\n",
       "      <td>10</td>\n",
       "      <td>20</td>\n",
       "      <td>NaN</td>\n",
       "    </tr>\n",
       "    <tr>\n",
       "      <th>2</th>\n",
       "      <td>Dumbell Shoulder Press</td>\n",
       "      <td>3/20/2023</td>\n",
       "      <td>Push</td>\n",
       "      <td>Shoulders</td>\n",
       "      <td>3</td>\n",
       "      <td>10</td>\n",
       "      <td>25</td>\n",
       "      <td>NaN</td>\n",
       "    </tr>\n",
       "    <tr>\n",
       "      <th>3</th>\n",
       "      <td>Dumbell Bench Press</td>\n",
       "      <td>3/20/2023</td>\n",
       "      <td>Push</td>\n",
       "      <td>Chest</td>\n",
       "      <td>3</td>\n",
       "      <td>10</td>\n",
       "      <td>30</td>\n",
       "      <td>NaN</td>\n",
       "    </tr>\n",
       "    <tr>\n",
       "      <th>4</th>\n",
       "      <td>Dumbell Rows</td>\n",
       "      <td>3/20/2023</td>\n",
       "      <td>Pull</td>\n",
       "      <td>Lats</td>\n",
       "      <td>3</td>\n",
       "      <td>10</td>\n",
       "      <td>30</td>\n",
       "      <td>NaN</td>\n",
       "    </tr>\n",
       "    <tr>\n",
       "      <th>...</th>\n",
       "      <td>...</td>\n",
       "      <td>...</td>\n",
       "      <td>...</td>\n",
       "      <td>...</td>\n",
       "      <td>...</td>\n",
       "      <td>...</td>\n",
       "      <td>...</td>\n",
       "      <td>...</td>\n",
       "    </tr>\n",
       "    <tr>\n",
       "      <th>650</th>\n",
       "      <td>Dumbell Rows</td>\n",
       "      <td>12/26/2023</td>\n",
       "      <td>Pull</td>\n",
       "      <td>Lats</td>\n",
       "      <td>4</td>\n",
       "      <td>10</td>\n",
       "      <td>50</td>\n",
       "      <td>NaN</td>\n",
       "    </tr>\n",
       "    <tr>\n",
       "      <th>651</th>\n",
       "      <td>Preacher Curls</td>\n",
       "      <td>12/26/2023</td>\n",
       "      <td>Pull</td>\n",
       "      <td>Biceps</td>\n",
       "      <td>4</td>\n",
       "      <td>10</td>\n",
       "      <td>40</td>\n",
       "      <td>NaN</td>\n",
       "    </tr>\n",
       "    <tr>\n",
       "      <th>652</th>\n",
       "      <td>Hammerhead Curls</td>\n",
       "      <td>12/26/2023</td>\n",
       "      <td>Pull</td>\n",
       "      <td>Biceps</td>\n",
       "      <td>4</td>\n",
       "      <td>10</td>\n",
       "      <td>30</td>\n",
       "      <td>NaN</td>\n",
       "    </tr>\n",
       "    <tr>\n",
       "      <th>653</th>\n",
       "      <td>Incline Cable Rows</td>\n",
       "      <td>12/26/2023</td>\n",
       "      <td>Pull</td>\n",
       "      <td>Lats</td>\n",
       "      <td>4</td>\n",
       "      <td>10</td>\n",
       "      <td>45</td>\n",
       "      <td>NaN</td>\n",
       "    </tr>\n",
       "    <tr>\n",
       "      <th>654</th>\n",
       "      <td>Incline Supinated Curls</td>\n",
       "      <td>12/26/2023</td>\n",
       "      <td>Pull</td>\n",
       "      <td>Biceps</td>\n",
       "      <td>4</td>\n",
       "      <td>10</td>\n",
       "      <td>25</td>\n",
       "      <td>NaN</td>\n",
       "    </tr>\n",
       "  </tbody>\n",
       "</table>\n",
       "<p>655 rows × 8 columns</p>\n",
       "</div>"
      ],
      "text/plain": [
       "                        Name        Date  Type Primary Muscle  Sets  Reps  \\\n",
       "0              Dumbell Curls   3/20/2023  Pull         Biceps     3    10   \n",
       "1    Overhead Dumbell Raises   3/20/2023  Push        Triceps     3    10   \n",
       "2     Dumbell Shoulder Press   3/20/2023  Push      Shoulders     3    10   \n",
       "3        Dumbell Bench Press   3/20/2023  Push          Chest     3    10   \n",
       "4               Dumbell Rows   3/20/2023  Pull           Lats     3    10   \n",
       "..                       ...         ...   ...            ...   ...   ...   \n",
       "650             Dumbell Rows  12/26/2023  Pull           Lats     4    10   \n",
       "651           Preacher Curls  12/26/2023  Pull         Biceps     4    10   \n",
       "652         Hammerhead Curls  12/26/2023  Pull         Biceps     4    10   \n",
       "653       Incline Cable Rows  12/26/2023  Pull           Lats     4    10   \n",
       "654  Incline Supinated Curls  12/26/2023  Pull         Biceps     4    10   \n",
       "\n",
       "    Weight (lbs) Notes  \n",
       "0             20   NaN  \n",
       "1             20   NaN  \n",
       "2             25   NaN  \n",
       "3             30   NaN  \n",
       "4             30   NaN  \n",
       "..           ...   ...  \n",
       "650           50   NaN  \n",
       "651           40   NaN  \n",
       "652           30   NaN  \n",
       "653           45   NaN  \n",
       "654           25   NaN  \n",
       "\n",
       "[655 rows x 8 columns]"
      ]
     },
     "execution_count": 2,
     "metadata": {},
     "output_type": "execute_result"
    }
   ],
   "source": [
    "df"
   ]
  },
  {
   "cell_type": "code",
   "execution_count": 3,
   "id": "3afe68ff",
   "metadata": {},
   "outputs": [],
   "source": [
    "exercise = df[df['Name'] == \"Bench Press\"]"
   ]
  },
  {
   "cell_type": "code",
   "execution_count": 4,
   "id": "b8547827",
   "metadata": {},
   "outputs": [
    {
     "data": {
      "text/html": [
       "<div>\n",
       "<style scoped>\n",
       "    .dataframe tbody tr th:only-of-type {\n",
       "        vertical-align: middle;\n",
       "    }\n",
       "\n",
       "    .dataframe tbody tr th {\n",
       "        vertical-align: top;\n",
       "    }\n",
       "\n",
       "    .dataframe thead th {\n",
       "        text-align: right;\n",
       "    }\n",
       "</style>\n",
       "<table border=\"1\" class=\"dataframe\">\n",
       "  <thead>\n",
       "    <tr style=\"text-align: right;\">\n",
       "      <th></th>\n",
       "      <th>Name</th>\n",
       "      <th>Date</th>\n",
       "      <th>Type</th>\n",
       "      <th>Primary Muscle</th>\n",
       "      <th>Sets</th>\n",
       "      <th>Reps</th>\n",
       "      <th>Weight (lbs)</th>\n",
       "      <th>Notes</th>\n",
       "    </tr>\n",
       "  </thead>\n",
       "  <tbody>\n",
       "    <tr>\n",
       "      <th>17</th>\n",
       "      <td>Bench Press</td>\n",
       "      <td>4/4/2023</td>\n",
       "      <td>Push</td>\n",
       "      <td>Chest</td>\n",
       "      <td>2</td>\n",
       "      <td>8</td>\n",
       "      <td>115</td>\n",
       "      <td>NaN</td>\n",
       "    </tr>\n",
       "    <tr>\n",
       "      <th>18</th>\n",
       "      <td>Bench Press</td>\n",
       "      <td>4/4/2023</td>\n",
       "      <td>Push</td>\n",
       "      <td>Chest</td>\n",
       "      <td>2</td>\n",
       "      <td>6</td>\n",
       "      <td>115</td>\n",
       "      <td>NaN</td>\n",
       "    </tr>\n",
       "    <tr>\n",
       "      <th>93</th>\n",
       "      <td>Bench Press</td>\n",
       "      <td>6/8/2023</td>\n",
       "      <td>Push</td>\n",
       "      <td>Chest</td>\n",
       "      <td>4</td>\n",
       "      <td>6</td>\n",
       "      <td>115</td>\n",
       "      <td>NaN</td>\n",
       "    </tr>\n",
       "    <tr>\n",
       "      <th>122</th>\n",
       "      <td>Bench Press</td>\n",
       "      <td>6/13/2023</td>\n",
       "      <td>Push</td>\n",
       "      <td>Chest</td>\n",
       "      <td>4</td>\n",
       "      <td>6</td>\n",
       "      <td>135</td>\n",
       "      <td>NaN</td>\n",
       "    </tr>\n",
       "    <tr>\n",
       "      <th>173</th>\n",
       "      <td>Bench Press</td>\n",
       "      <td>6/24/2023</td>\n",
       "      <td>Push</td>\n",
       "      <td>Chest</td>\n",
       "      <td>4</td>\n",
       "      <td>6</td>\n",
       "      <td>135</td>\n",
       "      <td>NaN</td>\n",
       "    </tr>\n",
       "    <tr>\n",
       "      <th>232</th>\n",
       "      <td>Bench Press</td>\n",
       "      <td>7/5/2023</td>\n",
       "      <td>Push</td>\n",
       "      <td>Chest</td>\n",
       "      <td>4</td>\n",
       "      <td>8</td>\n",
       "      <td>115</td>\n",
       "      <td>NaN</td>\n",
       "    </tr>\n",
       "    <tr>\n",
       "      <th>261</th>\n",
       "      <td>Bench Press</td>\n",
       "      <td>7/11/2023</td>\n",
       "      <td>Push</td>\n",
       "      <td>Chest</td>\n",
       "      <td>4</td>\n",
       "      <td>4</td>\n",
       "      <td>135</td>\n",
       "      <td>NaN</td>\n",
       "    </tr>\n",
       "    <tr>\n",
       "      <th>290</th>\n",
       "      <td>Bench Press</td>\n",
       "      <td>7/16/2023</td>\n",
       "      <td>Push</td>\n",
       "      <td>Chest</td>\n",
       "      <td>4</td>\n",
       "      <td>6</td>\n",
       "      <td>135</td>\n",
       "      <td>NaN</td>\n",
       "    </tr>\n",
       "    <tr>\n",
       "      <th>381</th>\n",
       "      <td>Bench Press</td>\n",
       "      <td>8/15/2023</td>\n",
       "      <td>Push</td>\n",
       "      <td>Chest</td>\n",
       "      <td>4</td>\n",
       "      <td>8</td>\n",
       "      <td>135</td>\n",
       "      <td>NaN</td>\n",
       "    </tr>\n",
       "    <tr>\n",
       "      <th>431</th>\n",
       "      <td>Bench Press</td>\n",
       "      <td>9/10/2023</td>\n",
       "      <td>Push</td>\n",
       "      <td>Chest</td>\n",
       "      <td>4</td>\n",
       "      <td>6</td>\n",
       "      <td>155</td>\n",
       "      <td>NaN</td>\n",
       "    </tr>\n",
       "    <tr>\n",
       "      <th>476</th>\n",
       "      <td>Bench Press</td>\n",
       "      <td>9/28/2023</td>\n",
       "      <td>Push</td>\n",
       "      <td>Chest</td>\n",
       "      <td>4</td>\n",
       "      <td>4</td>\n",
       "      <td>165</td>\n",
       "      <td>NaN</td>\n",
       "    </tr>\n",
       "    <tr>\n",
       "      <th>601</th>\n",
       "      <td>Bench Press</td>\n",
       "      <td>12/9/2023</td>\n",
       "      <td>Push</td>\n",
       "      <td>Chest</td>\n",
       "      <td>4</td>\n",
       "      <td>8</td>\n",
       "      <td>155</td>\n",
       "      <td>NaN</td>\n",
       "    </tr>\n",
       "  </tbody>\n",
       "</table>\n",
       "</div>"
      ],
      "text/plain": [
       "            Name       Date  Type Primary Muscle  Sets  Reps Weight (lbs)  \\\n",
       "17   Bench Press   4/4/2023  Push          Chest     2     8          115   \n",
       "18   Bench Press   4/4/2023  Push          Chest     2     6          115   \n",
       "93   Bench Press   6/8/2023  Push          Chest     4     6          115   \n",
       "122  Bench Press  6/13/2023  Push          Chest     4     6          135   \n",
       "173  Bench Press  6/24/2023  Push          Chest     4     6          135   \n",
       "232  Bench Press   7/5/2023  Push          Chest     4     8          115   \n",
       "261  Bench Press  7/11/2023  Push          Chest     4     4          135   \n",
       "290  Bench Press  7/16/2023  Push          Chest     4     6          135   \n",
       "381  Bench Press  8/15/2023  Push          Chest     4     8          135   \n",
       "431  Bench Press  9/10/2023  Push          Chest     4     6          155   \n",
       "476  Bench Press  9/28/2023  Push          Chest     4     4          165   \n",
       "601  Bench Press  12/9/2023  Push          Chest     4     8          155   \n",
       "\n",
       "    Notes  \n",
       "17    NaN  \n",
       "18    NaN  \n",
       "93    NaN  \n",
       "122   NaN  \n",
       "173   NaN  \n",
       "232   NaN  \n",
       "261   NaN  \n",
       "290   NaN  \n",
       "381   NaN  \n",
       "431   NaN  \n",
       "476   NaN  \n",
       "601   NaN  "
      ]
     },
     "execution_count": 4,
     "metadata": {},
     "output_type": "execute_result"
    }
   ],
   "source": [
    "exercise"
   ]
  },
  {
   "cell_type": "code",
   "execution_count": 5,
   "id": "1ff6f36d",
   "metadata": {},
   "outputs": [],
   "source": [
    "import seaborn as sns\n",
    "import matplotlib.pyplot as plt"
   ]
  },
  {
   "cell_type": "code",
   "execution_count": 6,
   "id": "87505933",
   "metadata": {
    "scrolled": true
   },
   "outputs": [
    {
     "data": {
      "image/png": "[encoded data removed]",
      "text/plain": [
       "<Figure size 1200x600 with 1 Axes>"
      ]
     },
     "metadata": {},
     "output_type": "display_data"
    }
   ],
   "source": [
    "plt.figure(figsize = (12,6))\n",
    "plot =sns.lineplot(data = exercise, x = 'Date', y = 'Weight (lbs)', hue = 'Reps')\n",
    "plot.invert_yaxis()\n",
    "plt.show()"
   ]
  },
  {
   "cell_type": "code",
   "execution_count": 7,
   "id": "79ac4067",
   "metadata": {},
   "outputs": [
    {
     "data": {
      "text/plain": [
       "Type\n",
       "Push    226\n",
       "Pull    182\n",
       "Legs    126\n",
       "Core    120\n",
       "Name: count, dtype: int64"
      ]
     },
     "execution_count": 7,
     "metadata": {},
     "output_type": "execute_result"
    }
   ],
   "source": [
    "typeCount = df['Type'].value_counts()\n",
    "typeCount"
   ]
  },
  {
   "cell_type": "code",
   "execution_count": 8,
   "id": "743aebd2",
   "metadata": {},
   "outputs": [
    {
     "data": {
      "text/plain": [
       "<Axes: xlabel='Type', ylabel='count'>"
      ]
     },
     "execution_count": 8,
     "metadata": {},
     "output_type": "execute_result"
    },
    {
     "data": {
      "image/png": "[encoded data removed]",
      "text/plain": [
       "<Figure size 640x480 with 1 Axes>"
      ]
     },
     "metadata": {},
     "output_type": "display_data"
    }
   ],
   "source": [
    "\n",
    "sns.countplot(data = df, x =\"Type\", palette = 'flare')"
   ]
  },
  {
   "cell_type": "code",
   "execution_count": 11,
   "id": "f0cf8a95",
   "metadata": {},
   "outputs": [],
   "source": [
    "df['Date'] = pd.to_datetime(df['Date'],format='%m/%d/%Y')"
   ]
  },
  {
   "cell_type": "code",
   "execution_count": 21,
   "id": "f8f26539",
   "metadata": {},
   "outputs": [
    {
     "data": {
      "text/plain": [
       "Name                      object\n",
       "Date              datetime64[ns]\n",
       "Type                      object\n",
       "Primary Muscle            object\n",
       "Sets                       int64\n",
       "Reps                       int64\n",
       "Weight (lbs)              object\n",
       "Notes                     object\n",
       "dtype: object"
      ]
     },
     "execution_count": 21,
     "metadata": {},
     "output_type": "execute_result"
    }
   ],
   "source": [
    "df.dtypes"
   ]
  },
  {
   "cell_type": "code",
   "execution_count": 63,
   "id": "89886cf5",
   "metadata": {},
   "outputs": [
    {
     "data": {
      "text/plain": [
       "Date  Date  Type\n",
       "3     2023  Pull     7\n",
       "            Push     6\n",
       "            Legs     3\n",
       "            Core     1\n",
       "4     2023  Push    15\n",
       "            Legs     8\n",
       "            Pull     6\n",
       "5     2023  Legs     8\n",
       "            Push     5\n",
       "            Core     2\n",
       "            Pull     1\n",
       "6     2023  Push    43\n",
       "            Pull    39\n",
       "            Legs    38\n",
       "            Core    37\n",
       "7     2023  Push    38\n",
       "            Legs    35\n",
       "            Core    30\n",
       "            Pull    28\n",
       "8     2023  Pull    22\n",
       "            Push    18\n",
       "            Legs    10\n",
       "            Core     6\n",
       "9     2023  Push    34\n",
       "            Core    25\n",
       "            Pull    17\n",
       "            Legs     8\n",
       "10    2023  Push    14\n",
       "            Legs    11\n",
       "            Pull    11\n",
       "            Core     6\n",
       "11    2023  Push    24\n",
       "            Pull    21\n",
       "            Legs     5\n",
       "            Core     4\n",
       "12    2023  Pull    30\n",
       "            Push    29\n",
       "            Core     9\n",
       "Name: count, dtype: int64"
      ]
     },
     "execution_count": 63,
     "metadata": {},
     "output_type": "execute_result"
    }
   ],
   "source": [
    "df.index = pd.to_datetime(df['Date'],format='%m/%d/%Y')\n",
    "test = df.groupby(by=[df.index.month, df.index.year])['Type'].value_counts()\n",
    "test"
   ]
  },
  {
   "cell_type": "code",
   "execution_count": 61,
   "id": "36640b7b",
   "metadata": {},
   "outputs": [
    {
     "data": {
      "text/plain": [
       "<Axes: xlabel='count', ylabel='count'>"
      ]
     },
     "execution_count": 61,
     "metadata": {},
     "output_type": "execute_result"
    },
    {
     "data": {
      "image/png": "[encoded data removed]",
      "text/plain": [
       "<Figure size 640x480 with 1 Axes>"
      ]
     },
     "metadata": {},
     "output_type": "display_data"
    }
   ],
   "source": [
    "sns.countplot(data = df, x = test)"
   ]
  },
  {
   "cell_type": "code",
   "execution_count": 60,
   "id": "6447e5b9",
   "metadata": {},
   "outputs": [
    {
     "ename": "NameError",
     "evalue": "name 'Type' is not defined",
     "output_type": "error",
     "traceback": [
      "\u001b[1;31m---------------------------------------------------------------------------\u001b[0m",
      "\u001b[1;31mNameError\u001b[0m                                 Traceback (most recent call last)",
      "Cell \u001b[1;32mIn[60], line 1\u001b[0m\n\u001b[1;32m----> 1\u001b[0m sns\u001b[38;5;241m.\u001b[39mbarplot(data \u001b[38;5;241m=\u001b[39m tes, x \u001b[38;5;241m=\u001b[39m Type)\n",
      "\u001b[1;31mNameError\u001b[0m: name 'Type' is not defined"
     ]
    }
   ],
   "source": [
    "sns.barplot(data = tes, x = Type)"
   ]
  },
  {
   "cell_type": "code",
   "execution_count": null,
   "id": "3bdab12d",
   "metadata": {},
   "outputs": [],
   "source": []
  }
 ],
 "metadata": {
  "kernelspec": {
   "display_name": "Python 3 (ipykernel)",
   "language": "python",
   "name": "python3"
  },
  "language_info": {
   "codemirror_mode": {
    "name": "ipython",
    "version": 3
   },
   "file_extension": ".py",
   "mimetype": "text/x-python",
   "name": "python",
   "nbconvert_exporter": "python",
   "pygments_lexer": "ipython3",
   "version": "3.11.5"
  }
 },
 "nbformat": 4,
 "nbformat_minor": 5
}
